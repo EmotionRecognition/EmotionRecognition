{
 "cells": [
  {
   "cell_type": "code",
   "execution_count": 1,
   "metadata": {},
   "outputs": [],
   "source": [
    "import cv2\n",
    "import numpy as np\n",
    "import dlib\n",
    "import os\n",
    "import glob\n",
    "import random"
   ]
  },
  {
   "cell_type": "code",
   "execution_count": 2,
   "metadata": {
    "collapsed": true
   },
   "outputs": [],
   "source": [
    "from matplotlib import pyplot as plt\n",
    "%matplotlib inline"
   ]
  },
  {
   "cell_type": "code",
   "execution_count": 3,
   "metadata": {
    "collapsed": true
   },
   "outputs": [],
   "source": [
    "predictor5_path = \"./shape_predictor_5_face_landmarks.dat\"\n",
    "predictor68_path = \"./shape_predictor_68_face_landmarks.dat\"\n",
    "face_rec_model_path = \"./dlib_face_recognition_resnet_model_v1.dat\"\n",
    "\n",
    "detector = dlib.get_frontal_face_detector()\n",
    "sp5 = dlib.shape_predictor(predictor68_path)\n",
    "sp68 = dlib.shape_predictor(predictor68_path)\n",
    "facerec = dlib.face_recognition_model_v1(face_rec_model_path)"
   ]
  },
  {
   "cell_type": "code",
   "execution_count": 4,
   "metadata": {
    "collapsed": true
   },
   "outputs": [],
   "source": [
    "feats = []"
   ]
  },
  {
   "cell_type": "code",
   "execution_count": null,
   "metadata": {},
   "outputs": [],
   "source": [
    ""
   ]
  },
  {
   "cell_type": "code",
   "execution_count": 5,
   "metadata": {},
   "outputs": [],
   "source": [
    "def get_features(im):\n",
    "    dets = detector(im, 1)\n",
    "    if len(dets) == 0:\n",
    "        return None  # no face detected :(\n",
    "    for d in dets:\n",
    "        # TODO: what if there are two faces in one pic --> seems ok\n",
    "#         print(d)\n",
    "        cur_feat = []\n",
    "        x_l = d.left()\n",
    "        x_r = d.right()\n",
    "        y_t = d.top()\n",
    "        y_b = d.bottom()\n",
    "\n",
    "\n",
    "        width = x_r - x_l\n",
    "        height = y_b - y_t\n",
    "    #     cv2.rectangle(orig, (x, y), (x + w, y + h), (0, 255, 0), im.shape[0]//150)\n",
    "        shape = sp68(im, d)\n",
    "        for i in range(0, 68):\n",
    "            # TODO: normalize to 0 mean? How?\n",
    "            feat_x = (shape.part(i).x - x_l) / width\n",
    "            feat_y = (shape.part(i).y - y_t) / height\n",
    "            cur_feat.append(feat_x)\n",
    "            cur_feat.append(feat_y)\n",
    "\n",
    "    #         cv2.circle(orig, (shape.part(i).x, shape.part(i).y), 1, (255, 0, 0), im.shape[0]//150)\n",
    "    #     feats.append(cur_feat)\n",
    "    return cur_feat"
   ]
  },
  {
   "cell_type": "code",
   "execution_count": 6,
   "metadata": {
    "scrolled": true
   },
   "outputs": [],
   "source": [
    "# plt.imshow(cv2.cvtColor(orig, cv2.COLOR_BGR2RGB))"
   ]
  },
  {
   "cell_type": "code",
   "execution_count": 90,
   "metadata": {},
   "outputs": [],
   "source": [
    "from sklearn import svm, linear_model, calibration, ensemble"
   ]
  },
  {
   "cell_type": "code",
   "execution_count": 8,
   "metadata": {
    "collapsed": true
   },
   "outputs": [],
   "source": [
    "# X_train  = feats\n",
    "# # y = [0, 1]"
   ]
  },
  {
   "cell_type": "code",
   "execution_count": 9,
   "metadata": {
    "collapsed": true
   },
   "outputs": [],
   "source": [
    "# clf = svm.LinearSVC() # TODO: consider non-linear kernels: svm.SVC()"
   ]
  },
  {
   "cell_type": "code",
   "execution_count": 13,
   "metadata": {},
   "outputs": [],
   "source": [
    "# clf.fit(X_train, y)"
   ]
  },
  {
   "cell_type": "code",
   "execution_count": 14,
   "metadata": {},
   "outputs": [],
   "source": [
    "# clf.predict([feats[1], feats[0]])"
   ]
  },
  {
   "cell_type": "code",
   "execution_count": 15,
   "metadata": {
    "collapsed": true
   },
   "outputs": [],
   "source": [
    "emotions = [\"neutral\", \"anger\", \"contempt\", \"disgust\", \"fear\", \"happy\", \"sadness\", \"surprise\"] #Emotion list"
   ]
  },
  {
   "cell_type": "code",
   "execution_count": 16,
   "metadata": {
    "collapsed": true
   },
   "outputs": [],
   "source": [
    "def get_files(emotion): #Define function to get file list, randomly shuffle it and split 80/20\n",
    "    files = glob.glob(\"google_dataset\\\\%s\\\\*\" %emotion)\n",
    "    random.shuffle(files)\n",
    "    training = files[:int(len(files)*0.8)] #get first 80% of file list\n",
    "    prediction = files[-int(len(files)*0.2):] #get last 20% of file list\n",
    "    return training, prediction"
   ]
  },
  {
   "cell_type": "code",
   "execution_count": 17,
   "metadata": {
    "collapsed": true
   },
   "outputs": [],
   "source": [
    "def make_sets():\n",
    "    training_data = []\n",
    "    training_labels = []\n",
    "    prediction_data = []\n",
    "    prediction_labels = []\n",
    "    for emotion in emotions:\n",
    "        training, prediction = get_files(emotion)\n",
    "        #Append data to training and prediction list, and generate labels 0-7\n",
    "        for item in training:\n",
    "            image = cv2.imread(item) #open image\n",
    "            gray = cv2.cvtColor(image, cv2.COLOR_BGR2GRAY) #convert to grayscale\n",
    "            current_feats = get_features(gray)\n",
    "            if current_feats:\n",
    "                training_data.append(current_feats) #append image feats to training data list\n",
    "                training_labels.append(emotions.index(emotion))\n",
    "    \n",
    "        for item in prediction: #repeat above process for prediction set\n",
    "            image = cv2.imread(item)\n",
    "            gray = cv2.cvtColor(image, cv2.COLOR_BGR2GRAY)\n",
    "            current_feats = get_features(gray)\n",
    "            if current_feats:\n",
    "                prediction_data.append(current_feats)\n",
    "                prediction_labels.append(emotions.index(emotion))\n",
    "\n",
    "    return training_data, training_labels, prediction_data, prediction_labels"
   ]
  },
  {
   "cell_type": "code",
   "execution_count": 18,
   "metadata": {},
   "outputs": [],
   "source": [
    "sets_made = make_sets()"
   ]
  },
  {
   "cell_type": "code",
   "execution_count": 116,
   "metadata": {},
   "outputs": [],
   "source": [
    "def run_recognizer(print_probabilities=False):\n",
    "    training_data, training_labels, prediction_data, prediction_labels = make_sets()\n",
    "#     training_data, training_labels, prediction_data, prediction_labels = sets_made  # to speed up TEMP\n",
    "    \n",
    "    print (\"training SVM classifier\")\n",
    "    print (\"size of training set is:\", len(training_labels), \"images\")\n",
    "    print (\"size of test set is:\", len(prediction_labels), \"images\")\n",
    "    \n",
    "    X = training_data\n",
    "    y = training_labels\n",
    "    \n",
    "    clf = svm.LinearSVC(C=5) # 64\n",
    "    clf = calibration.CalibratedClassifierCV(svm.LinearSVC(C=5)) # 64\n",
    "\n",
    "#     clf = svm.SVC(C=4, kernel='linear', probability=True, decision_function_shape='ovo') # 54\n",
    "#     clf = linear_model.LogisticRegression(C=5)\n",
    "#     clf = ensemble.RandomForestClassifier() # no use\n",
    "#     clf = svm.SVC(C=0.8, kernel='rbf', gamma=20)  # it's worse\n",
    "\n",
    "    clf.fit(X, y)\n",
    "    print (\"predicting classification set\")\n",
    "    cnt = 0\n",
    "    correct = 0\n",
    "    incorrect = 0\n",
    "    \n",
    "    for image in training_data:\n",
    "        pred = clf.predict([image]) #predict emotion\n",
    "        if pred == training_labels[cnt]: #validate it\n",
    "            correct += 1\n",
    "            cnt += 1\n",
    "        else:\n",
    "            incorrect += 1\n",
    "            cnt += 1\n",
    "    print(\"Training accuracy:\", ((100*correct)/(correct + incorrect))) \n",
    "\n",
    "    cnt = 0\n",
    "    correct = 0\n",
    "    incorrect = 0\n",
    "    for image in prediction_data:\n",
    "        pred = clf.predict([image]) #predict emotion\n",
    "        if print_probabilities:\n",
    "            print(\"+++++++++\")\n",
    "            print(prediction_labels)\n",
    "            print(clf.predict_proba([image]))\n",
    "        if pred == prediction_labels[cnt]: #validate it\n",
    "            correct += 1\n",
    "            cnt += 1\n",
    "        else:\n",
    "            incorrect += 1\n",
    "            cnt += 1\n",
    "    return ((100*correct)/(correct + incorrect))"
   ]
  },
  {
   "cell_type": "code",
   "execution_count": 117,
   "metadata": {},
   "outputs": [
    {
     "name": "stdout",
     "output_type": "stream",
     "text": [
      "training SVM classifier\n",
      "size of training set is: 131 images\n",
      "size of test set is: 30 images\n",
      "predicting classification set\n",
      "Training accuracy: 70.99236641221374\n",
      "+++++++++\n",
      "[0, 0, 0, 1, 1, 1, 3, 3, 3, 3, 3, 3, 3, 3, 4, 4, 5, 5, 5, 5, 5, 5, 6, 6, 6, 6, 7, 7, 7, 7]\n",
      "[[ 0.15750544  0.21862395  0.2678559   0.05776468  0.08282758  0.17142439\n",
      "   0.04399807]]\n",
      "+++++++++\n",
      "[0, 0, 0, 1, 1, 1, 3, 3, 3, 3, 3, 3, 3, 3, 4, 4, 5, 5, 5, 5, 5, 5, 6, 6, 6, 6, 7, 7, 7, 7]\n",
      "[[ 0.2704979   0.21335393  0.1821911   0.05433077  0.10973443  0.14726418\n",
      "   0.0226277 ]]\n",
      "+++++++++\n",
      "[0, 0, 0, 1, 1, 1, 3, 3, 3, 3, 3, 3, 3, 3, 4, 4, 5, 5, 5, 5, 5, 5, 6, 6, 6, 6, 7, 7, 7, 7]\n",
      "[[ 0.19080272  0.21977517  0.21057752  0.0723091   0.09982938  0.14773562\n",
      "   0.0589705 ]]\n",
      "+++++++++\n",
      "[0, 0, 0, 1, 1, 1, 3, 3, 3, 3, 3, 3, 3, 3, 4, 4, 5, 5, 5, 5, 5, 5, 6, 6, 6, 6, 7, 7, 7, 7]\n",
      "[[ 0.16971337  0.08969121  0.28084524  0.04684246  0.08172078  0.22519149\n",
      "   0.10599545]]\n",
      "+++++++++\n",
      "[0, 0, 0, 1, 1, 1, 3, 3, 3, 3, 3, 3, 3, 3, 4, 4, 5, 5, 5, 5, 5, 5, 6, 6, 6, 6, 7, 7, 7, 7]\n",
      "[[ 0.079942    0.04304873  0.43144981  0.08902156  0.01230279  0.11281753\n",
      "   0.23141758]]\n",
      "+++++++++\n",
      "[0, 0, 0, 1, 1, 1, 3, 3, 3, 3, 3, 3, 3, 3, 4, 4, 5, 5, 5, 5, 5, 5, 6, 6, 6, 6, 7, 7, 7, 7]\n",
      "[[ 0.21311416  0.33037605  0.29995854  0.03146422  0.02342239  0.08696872\n",
      "   0.01469593]]\n",
      "+++++++++\n",
      "[0, 0, 0, 1, 1, 1, 3, 3, 3, 3, 3, 3, 3, 3, 4, 4, 5, 5, 5, 5, 5, 5, 6, 6, 6, 6, 7, 7, 7, 7]\n",
      "[[ 0.13203138  0.19309369  0.41622054  0.04663316  0.08633956  0.11196438\n",
      "   0.01371727]]\n",
      "+++++++++\n",
      "[0, 0, 0, 1, 1, 1, 3, 3, 3, 3, 3, 3, 3, 3, 4, 4, 5, 5, 5, 5, 5, 5, 6, 6, 6, 6, 7, 7, 7, 7]\n",
      "[[ 0.15812226  0.04716829  0.37395921  0.02751589  0.26545749  0.12066013\n",
      "   0.00711673]]\n",
      "+++++++++\n",
      "[0, 0, 0, 1, 1, 1, 3, 3, 3, 3, 3, 3, 3, 3, 4, 4, 5, 5, 5, 5, 5, 5, 6, 6, 6, 6, 7, 7, 7, 7]\n",
      "[[ 0.06061659  0.11409293  0.31163022  0.05155505  0.32191826  0.11692516\n",
      "   0.02326179]]\n",
      "+++++++++\n",
      "[0, 0, 0, 1, 1, 1, 3, 3, 3, 3, 3, 3, 3, 3, 4, 4, 5, 5, 5, 5, 5, 5, 6, 6, 6, 6, 7, 7, 7, 7]\n",
      "[[ 0.0940819   0.06385426  0.34032953  0.07560377  0.10185328  0.13901985\n",
      "   0.1852574 ]]\n",
      "+++++++++\n",
      "[0, 0, 0, 1, 1, 1, 3, 3, 3, 3, 3, 3, 3, 3, 4, 4, 5, 5, 5, 5, 5, 5, 6, 6, 6, 6, 7, 7, 7, 7]\n",
      "[[ 0.17434003  0.10779044  0.43738711  0.05456232  0.09982826  0.10846893\n",
      "   0.0176229 ]]\n",
      "+++++++++\n",
      "[0, 0, 0, 1, 1, 1, 3, 3, 3, 3, 3, 3, 3, 3, 4, 4, 5, 5, 5, 5, 5, 5, 6, 6, 6, 6, 7, 7, 7, 7]\n",
      "[[ 0.05765892  0.05004741  0.29413194  0.05063973  0.28742387  0.1263111\n",
      "   0.13378703]]\n",
      "+++++++++\n",
      "[0, 0, 0, 1, 1, 1, 3, 3, 3, 3, 3, 3, 3, 3, 4, 4, 5, 5, 5, 5, 5, 5, 6, 6, 6, 6, 7, 7, 7, 7]\n",
      "[[ 0.08589998  0.08231683  0.33592028  0.12687775  0.08110518  0.12098845\n",
      "   0.16689155]]\n",
      "+++++++++\n",
      "[0, 0, 0, 1, 1, 1, 3, 3, 3, 3, 3, 3, 3, 3, 4, 4, 5, 5, 5, 5, 5, 5, 6, 6, 6, 6, 7, 7, 7, 7]\n",
      "[[ 0.03783257  0.01035576  0.37542271  0.17437168  0.02306759  0.10472229\n",
      "   0.2742274 ]]\n",
      "+++++++++\n",
      "[0, 0, 0, 1, 1, 1, 3, 3, 3, 3, 3, 3, 3, 3, 4, 4, 5, 5, 5, 5, 5, 5, 6, 6, 6, 6, 7, 7, 7, 7]\n",
      "[[ 0.28802329  0.00712927  0.25695375  0.13667055  0.07357752  0.13085015\n",
      "   0.10679548]]\n",
      "+++++++++\n",
      "[0, 0, 0, 1, 1, 1, 3, 3, 3, 3, 3, 3, 3, 3, 4, 4, 5, 5, 5, 5, 5, 5, 6, 6, 6, 6, 7, 7, 7, 7]\n",
      "[[ 0.19426319  0.01261358  0.27947716  0.04479501  0.11768802  0.20732071\n",
      "   0.14384234]]\n",
      "+++++++++\n",
      "[0, 0, 0, 1, 1, 1, 3, 3, 3, 3, 3, 3, 3, 3, 4, 4, 5, 5, 5, 5, 5, 5, 6, 6, 6, 6, 7, 7, 7, 7]\n",
      "[[ 0.02428883  0.03353175  0.12880329  0.06285352  0.64164631  0.05755598\n",
      "   0.05132033]]\n",
      "+++++++++\n",
      "[0, 0, 0, 1, 1, 1, 3, 3, 3, 3, 3, 3, 3, 3, 4, 4, 5, 5, 5, 5, 5, 5, 6, 6, 6, 6, 7, 7, 7, 7]\n",
      "[[ 0.040595    0.09291123  0.14635612  0.03660263  0.54282656  0.12486673\n",
      "   0.01584174]]\n",
      "+++++++++\n",
      "[0, 0, 0, 1, 1, 1, 3, 3, 3, 3, 3, 3, 3, 3, 4, 4, 5, 5, 5, 5, 5, 5, 6, 6, 6, 6, 7, 7, 7, 7]\n",
      "[[ 0.02715743  0.01284968  0.16993385  0.03895726  0.61693571  0.06505048\n",
      "   0.06911559]]\n",
      "+++++++++\n",
      "[0, 0, 0, 1, 1, 1, 3, 3, 3, 3, 3, 3, 3, 3, 4, 4, 5, 5, 5, 5, 5, 5, 6, 6, 6, 6, 7, 7, 7, 7]\n",
      "[[ 0.02900631  0.01579808  0.16540281  0.03417534  0.58183671  0.11124288\n",
      "   0.06253787]]\n",
      "+++++++++\n",
      "[0, 0, 0, 1, 1, 1, 3, 3, 3, 3, 3, 3, 3, 3, 4, 4, 5, 5, 5, 5, 5, 5, 6, 6, 6, 6, 7, 7, 7, 7]\n",
      "[[ 0.01486213  0.09193108  0.13164065  0.03946541  0.57857658  0.08003684\n",
      "   0.06348731]]\n",
      "+++++++++\n",
      "[0, 0, 0, 1, 1, 1, 3, 3, 3, 3, 3, 3, 3, 3, 4, 4, 5, 5, 5, 5, 5, 5, 6, 6, 6, 6, 7, 7, 7, 7]\n",
      "[[ 0.07842365  0.007735    0.18688101  0.07273354  0.54620886  0.07424394\n",
      "   0.03377399]]\n",
      "+++++++++\n",
      "[0, 0, 0, 1, 1, 1, 3, 3, 3, 3, 3, 3, 3, 3, 4, 4, 5, 5, 5, 5, 5, 5, 6, 6, 6, 6, 7, 7, 7, 7]\n",
      "[[ 0.29474292  0.07568978  0.17459337  0.10289559  0.19379295  0.14601015\n",
      "   0.01227524]]\n",
      "+++++++++\n",
      "[0, 0, 0, 1, 1, 1, 3, 3, 3, 3, 3, 3, 3, 3, 4, 4, 5, 5, 5, 5, 5, 5, 6, 6, 6, 6, 7, 7, 7, 7]\n",
      "[[ 0.07685785  0.02934838  0.23900782  0.05209857  0.37591133  0.19367253\n",
      "   0.03310352]]\n",
      "+++++++++\n",
      "[0, 0, 0, 1, 1, 1, 3, 3, 3, 3, 3, 3, 3, 3, 4, 4, 5, 5, 5, 5, 5, 5, 6, 6, 6, 6, 7, 7, 7, 7]\n",
      "[[ 0.22258123  0.06276509  0.24704455  0.19887116  0.09219582  0.13006598\n",
      "   0.04647617]]\n",
      "+++++++++\n",
      "[0, 0, 0, 1, 1, 1, 3, 3, 3, 3, 3, 3, 3, 3, 4, 4, 5, 5, 5, 5, 5, 5, 6, 6, 6, 6, 7, 7, 7, 7]\n",
      "[[ 0.10226616  0.15766491  0.41025903  0.07372787  0.03127037  0.18751723\n",
      "   0.03729443]]\n",
      "+++++++++\n",
      "[0, 0, 0, 1, 1, 1, 3, 3, 3, 3, 3, 3, 3, 3, 4, 4, 5, 5, 5, 5, 5, 5, 6, 6, 6, 6, 7, 7, 7, 7]\n",
      "[[ 0.02066146  0.013258    0.23460551  0.05061168  0.00726068  0.07639492\n",
      "   0.59720776]]\n",
      "+++++++++\n",
      "[0, 0, 0, 1, 1, 1, 3, 3, 3, 3, 3, 3, 3, 3, 4, 4, 5, 5, 5, 5, 5, 5, 6, 6, 6, 6, 7, 7, 7, 7]\n",
      "[[ 0.11021593  0.00371803  0.12142697  0.09534141  0.00972192  0.12505713\n",
      "   0.53451862]]\n",
      "+++++++++\n",
      "[0, 0, 0, 1, 1, 1, 3, 3, 3, 3, 3, 3, 3, 3, 4, 4, 5, 5, 5, 5, 5, 5, 6, 6, 6, 6, 7, 7, 7, 7]\n",
      "[[ 0.12016893  0.01325501  0.24729631  0.06901117  0.00840514  0.10723429\n",
      "   0.43462915]]\n",
      "+++++++++\n",
      "[0, 0, 0, 1, 1, 1, 3, 3, 3, 3, 3, 3, 3, 3, 4, 4, 5, 5, 5, 5, 5, 5, 6, 6, 6, 6, 7, 7, 7, 7]\n",
      "[[ 0.41387477  0.03367136  0.1012689   0.04917336  0.00906639  0.14391031\n",
      "   0.24903492]]\n"
     ]
    },
    {
     "data": {
      "text/plain": [
       "60.0"
      ]
     },
     "execution_count": 117,
     "metadata": {},
     "output_type": "execute_result"
    }
   ],
   "source": [
    "run_recognizer(True)"
   ]
  },
  {
   "cell_type": "code",
   "execution_count": 118,
   "metadata": {},
   "outputs": [
    {
     "name": "stdout",
     "output_type": "stream",
     "text": [
      "training SVM classifier\n",
      "size of training set is: 130 images\n",
      "size of test set is: 31 images\n",
      "predicting classification set\n",
      "Training accuracy: 78.46153846153847\n",
      "Test: got 61.29032258064516 percent correct!\n",
      "training SVM classifier\n",
      "size of training set is: 132 images\n",
      "size of test set is: 29 images\n",
      "predicting classification set\n",
      "Training accuracy: 68.93939393939394\n",
      "Test: got 65.51724137931035 percent correct!\n",
      "training SVM classifier\n",
      "size of training set is: 131 images\n",
      "size of test set is: 30 images\n",
      "predicting classification set\n",
      "Training accuracy: 74.80916030534351\n",
      "Test: got 60.0 percent correct!\n",
      "training SVM classifier\n",
      "size of training set is: 132 images\n",
      "size of test set is: 30 images\n",
      "predicting classification set\n",
      "Training accuracy: 73.48484848484848\n",
      "Test: got 66.66666666666667 percent correct!\n",
      "training SVM classifier\n",
      "size of training set is: 130 images\n",
      "size of test set is: 31 images\n",
      "predicting classification set\n",
      "Training accuracy: 80.0\n",
      "Test: got 61.29032258064516 percent correct!\n",
      "training SVM classifier\n",
      "size of training set is: 131 images\n",
      "size of test set is: 30 images\n",
      "predicting classification set\n",
      "Training accuracy: 74.04580152671755\n",
      "Test: got 60.0 percent correct!\n",
      "training SVM classifier\n",
      "size of training set is: 135 images\n",
      "size of test set is: 26 images\n",
      "predicting classification set\n",
      "Training accuracy: 74.07407407407408\n",
      "Test: got 57.69230769230769 percent correct!\n",
      "training SVM classifier\n",
      "size of training set is: 132 images\n",
      "size of test set is: 30 images\n",
      "predicting classification set\n",
      "Training accuracy: 72.72727272727273\n",
      "Test: got 63.333333333333336 percent correct!\n",
      "training SVM classifier\n",
      "size of training set is: 130 images\n",
      "size of test set is: 32 images\n",
      "predicting classification set\n",
      "Training accuracy: 74.61538461538461\n",
      "Test: got 62.5 percent correct!\n",
      "training SVM classifier\n",
      "size of training set is: 133 images\n",
      "size of test set is: 28 images\n",
      "predicting classification set\n",
      "Training accuracy: 74.43609022556392\n",
      "Test: got 53.57142857142857 percent correct!\n",
      "training SVM classifier\n",
      "size of training set is: 131 images\n",
      "size of test set is: 31 images\n",
      "predicting classification set\n",
      "Training accuracy: 72.51908396946565\n",
      "Test: got 61.29032258064516 percent correct!\n",
      "training SVM classifier\n",
      "size of training set is: 131 images\n",
      "size of test set is: 30 images\n",
      "predicting classification set\n",
      "Training accuracy: 75.57251908396947\n",
      "Test: got 73.33333333333333 percent correct!\n",
      "\n",
      "\n",
      "end score: 62.2071065599 percent correct!\n"
     ]
    }
   ],
   "source": [
    "#Now run it\n",
    "metascore = []\n",
    "for i in range(0,12):\n",
    "    correct = run_recognizer()\n",
    "    print (\"Test: got\", correct, \"percent correct!\")\n",
    "    metascore.append(correct)\n",
    "\n",
    "print (\"\\n\\nend score:\", np.mean(metascore), \"percent correct!\")"
   ]
  },
  {
   "cell_type": "code",
   "execution_count": 108,
   "metadata": {},
   "outputs": [
    {
     "ename": "AttributeError",
     "evalue": "'LinearSVC' object has no attribute '_coef_'",
     "traceback": [
      "\u001b[0;31m---------------------------------------------------------------------------\u001b[0m",
      "\u001b[0;31mAttributeError\u001b[0m                            Traceback (most recent call last)",
      "\u001b[0;32m<ipython-input-108-0913d88699c5>\u001b[0m in \u001b[0;36m<module>\u001b[0;34m()\u001b[0m\n\u001b[0;32m----> 1\u001b[0;31m \u001b[0mclf\u001b[0m\u001b[1;33m.\u001b[0m\u001b[0m_coef_\u001b[0m\u001b[1;33m\u001b[0m\u001b[0m\n\u001b[0m",
      "\u001b[0;31mAttributeError\u001b[0m: 'LinearSVC' object has no attribute '_coef_'"
     ],
     "output_type": "error"
    }
   ],
   "source": [
    ""
   ]
  },
  {
   "cell_type": "code",
   "execution_count": 105,
   "metadata": {},
   "outputs": [
    {
     "data": {
      "text/plain": [
       "'0.19.0'"
      ]
     },
     "execution_count": 105,
     "metadata": {},
     "output_type": "execute_result"
    }
   ],
   "source": [
    "import sklearn\n",
    "sklearn.__version__"
   ]
  },
  {
   "cell_type": "code",
   "execution_count": null,
   "metadata": {
    "collapsed": true
   },
   "outputs": [],
   "source": [
    ""
   ]
  }
 ],
 "metadata": {
  "kernelspec": {
   "display_name": "Python 3",
   "language": "python",
   "name": "python3"
  },
  "language_info": {
   "codemirror_mode": {
    "name": "ipython",
    "version": 3.0
   },
   "file_extension": ".py",
   "mimetype": "text/x-python",
   "name": "python",
   "nbconvert_exporter": "python",
   "pygments_lexer": "ipython3",
   "version": "3.6.0"
  }
 },
 "nbformat": 4,
 "nbformat_minor": 0
}