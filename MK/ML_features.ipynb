{
 "cells": [
  {
   "cell_type": "code",
   "execution_count": 1,
   "metadata": {
    "collapsed": false
   },
   "outputs": [
    {
     "name": "stdout",
     "output_type": "stream",
     "text": [
      "The Zen of Python, by Tim Peters\n",
      "\n",
      "Beautiful is better than ugly.\n",
      "Explicit is better than implicit.\n",
      "Simple is better than complex.\n",
      "Complex is better than complicated.\n",
      "Flat is better than nested.\n",
      "Sparse is better than dense.\n",
      "Readability counts.\n",
      "Special cases aren't special enough to break the rules.\n",
      "Although practicality beats purity.\n",
      "Errors should never pass silently.\n",
      "Unless explicitly silenced.\n",
      "In the face of ambiguity, refuse the temptation to guess.\n",
      "There should be one-- and preferably only one --obvious way to do it.\n",
      "Although that way may not be obvious at first unless you're Dutch.\n",
      "Now is better than never.\n",
      "Although never is often better than *right* now.\n",
      "If the implementation is hard to explain, it's a bad idea.\n",
      "If the implementation is easy to explain, it may be a good idea.\n",
      "Namespaces are one honking great idea -- let's do more of those!\n"
     ]
    }
   ],
   "source": [
    "import cv2\n",
    "import numpy as np\n",
    "import dlib\n",
    "import this"
   ]
  },
  {
   "cell_type": "code",
   "execution_count": 2,
   "metadata": {
    "collapsed": true
   },
   "outputs": [],
   "source": [
    "from matplotlib import pyplot as plt\n",
    "%matplotlib inline"
   ]
  },
  {
   "cell_type": "code",
   "execution_count": 6,
   "metadata": {
    "collapsed": true
   },
   "outputs": [],
   "source": [
    "predictor5_path = \"./shape_predictor_5_face_landmarks.dat\"\n",
    "predictor68_path = \"./shape_predictor_68_face_landmarks.dat\"\n",
    "face_rec_model_path = \"./dlib_face_recognition_resnet_model_v1.dat\"\n",
    "\n",
    "detector = dlib.get_frontal_face_detector()\n",
    "sp5 = dlib.shape_predictor(predictor68_path)\n",
    "sp68 = dlib.shape_predictor(predictor68_path)\n",
    "facerec = dlib.face_recognition_model_v1(face_rec_model_path)"
   ]
  },
  {
   "cell_type": "code",
   "execution_count": 9,
   "metadata": {
    "collapsed": true
   },
   "outputs": [],
   "source": [
    "feats = []"
   ]
  },
  {
   "cell_type": "code",
   "execution_count": 31,
   "metadata": {
    "collapsed": false
   },
   "outputs": [],
   "source": [
    "photo_path = \"./P1180607.JPG\""
   ]
  },
  {
   "cell_type": "code",
   "execution_count": 32,
   "metadata": {
    "collapsed": false
   },
   "outputs": [],
   "source": [
    "orig = cv2.imread(photo_path)                        # Read image\n",
    "# im = cv2.resize(im, (960, 540))                    # Resize image\n",
    "# im = cv2.resize(im, None, fx=0.3, fy=0.3)\n",
    "# cv2.cvtColor(im, cv2.COLOR_BGR2RGB)\n",
    "im = cv2.cvtColor(orig, cv2.COLOR_BGR2GRAY)"
   ]
  },
  {
   "cell_type": "code",
   "execution_count": 34,
   "metadata": {
    "collapsed": false
   },
   "outputs": [],
   "source": [
    "dets = detector(im, 1)"
   ]
  },
  {
   "cell_type": "code",
   "execution_count": 35,
   "metadata": {
    "collapsed": false
   },
   "outputs": [
    {
     "data": {
      "text/plain": [
       "1"
      ]
     },
     "execution_count": 35,
     "metadata": {},
     "output_type": "execute_result"
    }
   ],
   "source": [
    "len(dets)"
   ]
  },
  {
   "cell_type": "code",
   "execution_count": 36,
   "metadata": {
    "collapsed": false
   },
   "outputs": [
    {
     "name": "stdout",
     "output_type": "stream",
     "text": [
      "[(1712, 480) (2267, 1035)]\n",
      "[[0.25806451612903225, 0.36129032258064514, 0.24516129032258063, 0.45806451612903226, 0.24516129032258063, 0.567741935483871, 0.25806451612903225, 0.6774193548387096, 0.27741935483870966, 0.7870967741935484, 0.3032258064516129, 0.8903225806451613, 0.34838709677419355, 0.9870967741935484, 0.3935483870967742, 1.064516129032258, 0.49032258064516127, 1.0903225806451613, 0.6064516129032258, 1.0838709677419356, 0.7290322580645161, 1.032258064516129, 0.8451612903225807, 0.967741935483871, 0.9548387096774194, 0.8838709677419355, 1.0258064516129033, 0.7870967741935484, 1.0580645161290323, 0.6709677419354839, 1.0838709677419356, 0.5419354838709678, 1.096774193548387, 0.41935483870967744, 0.2838709677419355, 0.2903225806451613, 0.3096774193548387, 0.25161290322580643, 0.36129032258064514, 0.23870967741935484, 0.4129032258064516, 0.24516129032258063, 0.4645161290322581, 0.2709677419354839, 0.5548387096774193, 0.2645161290322581, 0.6451612903225806, 0.23870967741935484, 0.7419354838709677, 0.24516129032258063, 0.8258064516129032, 0.27741935483870966, 0.9032258064516129, 0.32903225806451614, 0.5032258064516129, 0.36129032258064514, 0.4838709677419355, 0.432258064516129, 0.47096774193548385, 0.5032258064516129, 0.45161290322580644, 0.5806451612903226, 0.4129032258064516, 0.6387096774193548, 0.43870967741935485, 0.6516129032258065, 0.4774193548387097, 0.6645161290322581, 0.5225806451612903, 0.6580645161290323, 0.5612903225806452, 0.6451612903225806, 0.3419354838709677, 0.36774193548387096, 0.36774193548387096, 0.3419354838709677, 0.4129032258064516, 0.34838709677419355, 0.45161290322580644, 0.3741935483870968, 0.4129032258064516, 0.3870967741935484, 0.36774193548387096, 0.3870967741935484, 0.632258064516129, 0.3870967741935484, 0.6774193548387096, 0.3548387096774194, 0.7290322580645161, 0.36129032258064514, 0.7741935483870968, 0.3870967741935484, 0.7290322580645161, 0.4064516129032258, 0.6774193548387096, 0.4, 0.3870967741935484, 0.8064516129032258, 0.4129032258064516, 0.7741935483870968, 0.44516129032258067, 0.7612903225806451, 0.4774193548387097, 0.7741935483870968, 0.5161290322580645, 0.7612903225806451, 0.5806451612903226, 0.7870967741935484, 0.6516129032258065, 0.8193548387096774, 0.5806451612903226, 0.8580645161290322, 0.5161290322580645, 0.8709677419354839, 0.4774193548387097, 0.8709677419354839, 0.43870967741935485, 0.864516129032258, 0.4064516129032258, 0.8451612903225807, 0.4, 0.8064516129032258, 0.44516129032258067, 0.8, 0.4774193548387097, 0.8064516129032258, 0.5225806451612903, 0.8064516129032258, 0.6258064516129033, 0.8193548387096774, 0.5161290322580645, 0.8129032258064516, 0.4774193548387097, 0.8193548387096774, 0.43870967741935485, 0.8129032258064516], [0.14774774774774774, 0.42342342342342343, 0.16216216216216217, 0.5081081081081081, 0.1837837837837838, 0.5981981981981982, 0.218018018018018, 0.6936936936936937, 0.25585585585585585, 0.7891891891891892, 0.31351351351351353, 0.8882882882882883, 0.390990990990991, 0.9693693693693693, 0.4900900900900901, 1.0306306306306305, 0.6198198198198198, 1.0360360360360361, 0.7603603603603604, 0.9963963963963964, 0.8900900900900901, 0.9117117117117117, 1.0, 0.8126126126126126, 1.0792792792792794, 0.6954954954954955, 1.1081081081081081, 0.5603603603603604, 1.1063063063063063, 0.42702702702702705, 1.0918918918918918, 0.2954954954954955, 1.0738738738738738, 0.16576576576576577, 0.14234234234234233, 0.3261261261261261, 0.15495495495495495, 0.25765765765765763, 0.209009009009009, 0.21441441441441442, 0.27927927927927926, 0.1963963963963964, 0.34954954954954953, 0.2018018018018018, 0.4810810810810811, 0.16396396396396395, 0.563963963963964, 0.1063063063063063, 0.6648648648648648, 0.07567567567567568, 0.7711711711711712, 0.08288288288288288, 0.8666666666666667, 0.12792792792792793, 0.4306306306306306, 0.29009009009009007, 0.43243243243243246, 0.35855855855855856, 0.43243243243243246, 0.42702702702702705, 0.43243243243243246, 0.4990990990990991, 0.4036036036036036, 0.5945945945945946, 0.44144144144144143, 0.6036036036036037, 0.4864864864864865, 0.6018018018018018, 0.5351351351351351, 0.5747747747747748, 0.581981981981982, 0.5459459459459459, 0.22522522522522523, 0.3837837837837838, 0.2594594594594595, 0.33513513513513515, 0.3171171171171171, 0.31891891891891894, 0.3837837837837838, 0.34774774774774775, 0.32972972972972975, 0.372972972972973, 0.2702702702702703, 0.3891891891891892, 0.590990990990991, 0.2810810810810811, 0.6432432432432432, 0.22702702702702704, 0.7081081081081081, 0.209009009009009, 0.7747747747747747, 0.22522522522522523, 0.7243243243243244, 0.2594594594594595, 0.6594594594594595, 0.2756756756756757, 0.38198198198198197, 0.7477477477477478, 0.4198198198198198, 0.7081081081081081, 0.4666666666666667, 0.6756756756756757, 0.5153153153153153, 0.6756756756756757, 0.5621621621621622, 0.6504504504504505, 0.6486486486486487, 0.6486486486486487, 0.7549549549549549, 0.6486486486486487, 0.6774774774774774, 0.7153153153153153, 0.6036036036036037, 0.7585585585585586, 0.5531531531531532, 0.7765765765765765, 0.5045045045045045, 0.7837837837837838, 0.44684684684684683, 0.7783783783783784, 0.409009009009009, 0.745945945945946, 0.4774774774774775, 0.7243243243243244, 0.5261261261261261, 0.7171171171171171, 0.5747747747747748, 0.7009009009009008, 0.7243243243243244, 0.6630630630630631, 0.5837837837837838, 0.7045045045045045, 0.5351351351351351, 0.7207207207207207, 0.4882882882882883, 0.7261261261261261]]\n"
     ]
    }
   ],
   "source": [
    "for d in dets:\n",
    "    # TODO: what if there are two faces in one pic?\n",
    "    print(d)\n",
    "    cur_feat = []\n",
    "    x_l = d.left()\n",
    "    x_r = d.right()\n",
    "    y_t = d.top()\n",
    "    y_b = d.bottom()\n",
    "\n",
    "    \n",
    "    width = x_r - x_l\n",
    "    height = y_b - y_t\n",
    "#     cv2.rectangle(orig, (x, y), (x + w, y + h), (0, 255, 0), im.shape[0]//150)\n",
    "    shape = sp68(im, d)\n",
    "    for i in range(0, 68):\n",
    "        # TODO: normalize to 0 mean? How?\n",
    "        feat_x = (shape.part(i).x - x_l) / width\n",
    "        feat_y = (shape.part(i).y - y_t) / height\n",
    "        cur_feat.append(feat_x)\n",
    "        cur_feat.append(feat_y)\n",
    "        \n",
    "#         cv2.circle(orig, (shape.part(i).x, shape.part(i).y), 1, (255, 0, 0), im.shape[0]//150)\n",
    "    feats.append(cur_feat)\n",
    "print(feats)"
   ]
  },
  {
   "cell_type": "code",
   "execution_count": 38,
   "metadata": {
    "collapsed": true
   },
   "outputs": [],
   "source": [
    "from sklearn import svm"
   ]
  },
  {
   "cell_type": "code",
   "execution_count": 39,
   "metadata": {
    "collapsed": true
   },
   "outputs": [],
   "source": [
    "X_train = feats\n",
    "y = [0, 1]"
   ]
  },
  {
   "cell_type": "code",
   "execution_count": 48,
   "metadata": {
    "collapsed": true
   },
   "outputs": [],
   "source": [
    "clf = svm.LinearSVC() # TODO: consider non-linear kernels: svm.SVC()"
   ]
  },
  {
   "cell_type": "code",
   "execution_count": 41,
   "metadata": {
    "collapsed": false
   },
   "outputs": [
    {
     "data": {
      "text/plain": [
       "LinearSVC(C=1.0, class_weight=None, dual=True, fit_intercept=True,\n",
       "     intercept_scaling=1, loss='squared_hinge', max_iter=1000,\n",
       "     multi_class='ovr', penalty='l2', random_state=None, tol=0.0001,\n",
       "     verbose=0)"
      ]
     },
     "execution_count": 41,
     "metadata": {},
     "output_type": "execute_result"
    }
   ],
   "source": [
    "clf.fit(X_train, y)"
   ]
  },
  {
   "cell_type": "code",
   "execution_count": 47,
   "metadata": {
    "collapsed": false
   },
   "outputs": [
    {
     "data": {
      "text/plain": [
       "array([1, 0])"
      ]
     },
     "execution_count": 47,
     "metadata": {},
     "output_type": "execute_result"
    }
   ],
   "source": [
    "clf.predict([feats[1], feats[0]])"
   ]
  },
  {
   "cell_type": "code",
   "execution_count": null,
   "metadata": {
    "collapsed": true
   },
   "outputs": [],
   "source": [
    ""
   ]
  },
  {
   "cell_type": "code",
   "execution_count": null,
   "metadata": {
    "collapsed": true
   },
   "outputs": [],
   "source": [
    ""
   ]
  }
 ],
 "metadata": {
  "kernelspec": {
   "display_name": "Python 3",
   "language": "python",
   "name": "python3"
  },
  "language_info": {
   "codemirror_mode": {
    "name": "ipython",
    "version": 3.0
   },
   "file_extension": ".py",
   "mimetype": "text/x-python",
   "name": "python",
   "nbconvert_exporter": "python",
   "pygments_lexer": "ipython3",
   "version": "3.6.0"
  }
 },
 "nbformat": 4,
 "nbformat_minor": 0
}